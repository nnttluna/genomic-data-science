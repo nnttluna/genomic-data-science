{
  "nbformat": 4,
  "nbformat_minor": 0,
  "metadata": {
    "colab": {
      "provenance": [],
      "mount_file_id": "1_CbMo7cKCcoovp4TXXVeQtDieGEHjyKT",
      "authorship_tag": "ABX9TyMk9HZaYfEFO895AI3Yokbt",
      "include_colab_link": true
    },
    "kernelspec": {
      "name": "python3",
      "display_name": "Python 3"
    },
    "language_info": {
      "name": "python"
    }
  },
  "cells": [
    {
      "cell_type": "markdown",
      "metadata": {
        "id": "view-in-github",
        "colab_type": "text"
      },
      "source": [
        "<a href=\"https://colab.research.google.com/github/nnttluna/genomic-data-science/blob/main/sequencing_preprocessing_indexing.ipynb\" target=\"_parent\"><img src=\"https://colab.research.google.com/assets/colab-badge.svg\" alt=\"Open In Colab\"/></a>"
      ]
    },
    {
      "cell_type": "code",
      "execution_count": null,
      "metadata": {
        "id": "K5OJXSS-HtpO"
      },
      "outputs": [],
      "source": []
    },
    {
      "cell_type": "code",
      "source": [
        "from google.colab import drive\n",
        "drive.mount('/content/drive')"
      ],
      "metadata": {
        "colab": {
          "base_uri": "https://localhost:8080/"
        },
        "id": "KrQuIumq_Xsp",
        "outputId": "7da2d6df-351f-46b7-d5f9-e858cdb725e7"
      },
      "execution_count": 1,
      "outputs": [
        {
          "output_type": "stream",
          "name": "stdout",
          "text": [
            "Drive already mounted at /content/drive; to attempt to forcibly remount, call drive.mount(\"/content/drive\", force_remount=True).\n"
          ]
        }
      ]
    },
    {
      "cell_type": "code",
      "source": [
        "import urllib.request\n",
        "\n",
        "url = 'http://d28rh4a8wq0iu5.cloudfront.net/ads1/code/bm_preproc.py'\n",
        "filename = 'BM-preprocessing.py'\n",
        "urllib.request.urlretrieve(url, filename)\n",
        "preprocessing = open('BM-preprocessing.py','r')\n",
        "#print(preprocessing.read())"
      ],
      "metadata": {
        "id": "WxDE1so9AE_W"
      },
      "execution_count": 11,
      "outputs": []
    },
    {
      "cell_type": "code",
      "source": [
        "url2 = 'http://d28rh4a8wq0iu5.cloudfront.net/ads1/data/chr1.GRCh38.excerpt.fasta'\n",
        "filename2 = 'human-chromosome-1.fasta'\n",
        "urllib.request.urlretrieve(url2, filename2)\n",
        "chrms = open('human-chromosome-1.fasta','r')\n",
        "\n",
        "def readgenome(filename):\n",
        "  genome =''\n",
        "  with open(filename,'r') as f:\n",
        "    for line in f:\n",
        "      if not line[0] =='>':\n",
        "        genome+=line.rstrip()\n",
        "  return genome"
      ],
      "metadata": {
        "id": "Bjh7j6V6Bzd3"
      },
      "execution_count": 12,
      "outputs": []
    },
    {
      "cell_type": "code",
      "source": [
        "genome = readgenome(filename2)\n",
        "genome[:100]\n"
      ],
      "metadata": {
        "colab": {
          "base_uri": "https://localhost:8080/",
          "height": 35
        },
        "id": "0waFkqORCM0s",
        "outputId": "b7608e41-00c4-4d47-bb1b-92f86b13c428"
      },
      "execution_count": 13,
      "outputs": [
        {
          "output_type": "execute_result",
          "data": {
            "text/plain": [
              "'TTGAATGCTGAAATCAGCAGGTAATATATGATAATAGAGAAAGCTATCCCGAAGGTGCATAGGTCAACAATACTTGAGCCTAACTCAGTAGATCCTAAAA'"
            ],
            "application/vnd.google.colaboratory.intrinsic+json": {
              "type": "string"
            }
          },
          "metadata": {},
          "execution_count": 13
        }
      ]
    },
    {
      "cell_type": "code",
      "source": [
        "def naive(p,t):\n",
        "  occurances = []\n",
        "  alignments = 0\n",
        "  char_comparision = 0\n",
        "  for i in range(len(t)-len(p)+1):\n",
        "    alignments+=1\n",
        "    match_ques =True\n",
        "    for j in range (len(p)):\n",
        "      char_comparision+=1\n",
        "      if not t[i+j] == p[j]:\n",
        "        match_ques = False\n",
        "        break\n",
        "    if match_ques:\n",
        "      occurances.append(i)\n",
        "  return occurances, alignments, char_comparision"
      ],
      "metadata": {
        "id": "9mXjCXzBDquQ"
      },
      "execution_count": 14,
      "outputs": []
    },
    {
      "cell_type": "code",
      "source": [
        "import string\n",
        "\n",
        "def z_array(s):\n",
        "    \"\"\" Use Z algorithm (Gusfield theorem 1.4.1) to preprocess s \"\"\"\n",
        "    assert len(s) > 1\n",
        "    z = [len(s)] + [0] * (len(s)-1)\n",
        "    # Initial comparison of s[1:] with prefix\n",
        "    for i in range(1, len(s)):\n",
        "        if s[i] == s[i-1]:\n",
        "            z[1] += 1\n",
        "        else:\n",
        "            break\n",
        "    r, l = 0, 0\n",
        "    if z[1] > 0:\n",
        "        r, l = z[1], 1\n",
        "    for k in range(2, len(s)):\n",
        "        assert z[k] == 0\n",
        "        if k > r:\n",
        "            # Case 1\n",
        "            for i in range(k, len(s)):\n",
        "                if s[i] == s[i-k]:\n",
        "                    z[k] += 1\n",
        "                else:\n",
        "                    break\n",
        "            r, l = k + z[k] - 1, k\n",
        "        else:\n",
        "            # Case 2\n",
        "            # Calculate length of beta\n",
        "            nbeta = r - k + 1\n",
        "            zkp = z[k - l]\n",
        "            if nbeta > zkp:\n",
        "                # Case 2a: Zkp wins\n",
        "                z[k] = zkp\n",
        "            else:\n",
        "                # Case 2b: Compare characters just past r\n",
        "                nmatch = 0\n",
        "                for i in range(r+1, len(s)):\n",
        "                    if s[i] == s[i - k]:\n",
        "                        nmatch += 1\n",
        "                    else:\n",
        "                        break\n",
        "                l, r = k, r + nmatch\n",
        "                z[k] = r - k + 1\n",
        "    return z\n",
        "\n",
        "\n",
        "def n_array(s):\n",
        "    \"\"\" Compile the N array (Gusfield theorem 2.2.2) from the Z array \"\"\"\n",
        "    return z_array(s[::-1])[::-1]\n",
        "\n",
        "\n",
        "def big_l_prime_array(p, n):\n",
        "    \"\"\" Compile L' array (Gusfield theorem 2.2.2) using p and N array.\n",
        "        L'[i] = largest index j less than n such that N[j] = |P[i:]| \"\"\"\n",
        "    lp = [0] * len(p)\n",
        "    for j in range(len(p)-1):\n",
        "        i = len(p) - n[j]\n",
        "        if i < len(p):\n",
        "            lp[i] = j + 1\n",
        "    return lp\n",
        "\n",
        "\n",
        "def big_l_array(p, lp):\n",
        "    \"\"\" Compile L array (Gusfield theorem 2.2.2) using p and L' array.\n",
        "        L[i] = largest index j less than n such that N[j] >= |P[i:]| \"\"\"\n",
        "    l = [0] * len(p)\n",
        "    l[1] = lp[1]\n",
        "    for i in range(2, len(p)):\n",
        "        l[i] = max(l[i-1], lp[i])\n",
        "    return l\n",
        "\n",
        "\n",
        "def small_l_prime_array(n):\n",
        "    \"\"\" Compile lp' array (Gusfield theorem 2.2.4) using N array. \"\"\"\n",
        "    small_lp = [0] * len(n)\n",
        "    for i in range(len(n)):\n",
        "        if n[i] == i+1:  # prefix matching a suffix\n",
        "            small_lp[len(n)-i-1] = i+1\n",
        "    for i in range(len(n)-2, -1, -1):  # \"smear\" them out to the left\n",
        "        if small_lp[i] == 0:\n",
        "            small_lp[i] = small_lp[i+1]\n",
        "    return small_lp\n",
        "\n",
        "\n",
        "def good_suffix_table(p):\n",
        "    \"\"\" Return tables needed to apply good suffix rule. \"\"\"\n",
        "    n = n_array(p)\n",
        "    lp = big_l_prime_array(p, n)\n",
        "    return lp, big_l_array(p, lp), small_l_prime_array(n)\n",
        "\n",
        "\n",
        "def good_suffix_mismatch(i, big_l_prime, small_l_prime):\n",
        "    \"\"\" Given a mismatch at offset i, and given L/L' and l' arrays,\n",
        "        return amount to shift as determined by good suffix rule. \"\"\"\n",
        "    length = len(big_l_prime)\n",
        "    assert i < length\n",
        "    if i == length - 1:\n",
        "        return 0\n",
        "    i += 1  # i points to leftmost matching position of P\n",
        "    if big_l_prime[i] > 0:\n",
        "        return length - big_l_prime[i]\n",
        "    return length - small_l_prime[i]\n",
        "\n",
        "\n",
        "def good_suffix_match(small_l_prime):\n",
        "    \"\"\" Given a full match of P to T, return amount to shift as\n",
        "        determined by good suffix rule. \"\"\"\n",
        "    return len(small_l_prime) - small_l_prime[1]\n",
        "\n",
        "\n",
        "def dense_bad_char_tab(p, amap):\n",
        "    \"\"\" Given pattern string and list with ordered alphabet characters, create\n",
        "        and return a dense bad character table.  Table is indexed by offset\n",
        "        then by character. \"\"\"\n",
        "    tab = []\n",
        "    nxt = [0] * len(amap)\n",
        "    for i in range(0, len(p)):\n",
        "        c = p[i]\n",
        "        assert c in amap\n",
        "        tab.append(nxt[:])\n",
        "        nxt[amap[c]] = i+1\n",
        "    return tab\n",
        "\n",
        "class BoyerMoore(object):\n",
        "    \"\"\" Encapsulates pattern and associated Boyer-Moore preprocessing. \"\"\"\n",
        "\n",
        "    def __init__(self, p, alphabet='ACGT'):\n",
        "        self.p = p\n",
        "        self.alphabet = alphabet\n",
        "        # Create map from alphabet characters to integers\n",
        "        self.amap = {}\n",
        "        for i in range(len(self.alphabet)):\n",
        "            self.amap[self.alphabet[i]] = i\n",
        "        # Make bad character rule table\n",
        "        self.bad_char = dense_bad_char_tab(p, self.amap)\n",
        "        # Create good suffix rule table\n",
        "        _, self.big_l, self.small_l_prime = good_suffix_table(p)\n",
        "\n",
        "    def bad_character_rule(self, i, c):\n",
        "        \"\"\" Return # skips given by bad character rule at offset i \"\"\"\n",
        "        assert c in self.amap\n",
        "        ci = self.amap[c]\n",
        "        assert i > (self.bad_char[i][ci]-1)\n",
        "        return i - (self.bad_char[i][ci]-1)\n",
        "\n",
        "    def good_suffix_rule(self, i):\n",
        "        \"\"\" Given a mismatch at offset i, return amount to shift\n",
        "            as determined by (weak) good suffix rule. \"\"\"\n",
        "        length = len(self.big_l)\n",
        "        assert i < length\n",
        "        if i == length - 1:\n",
        "            return 0\n",
        "        i += 1  # i points to leftmost matching position of P\n",
        "        if self.big_l[i] > 0:\n",
        "            return length - self.big_l[i]\n",
        "        return length - self.small_l_prime[i]\n",
        "\n",
        "    def match_skip(self):\n",
        "        \"\"\" Return amount to shift in case where P matches T \"\"\"\n",
        "        return len(self.small_l_prime) - self.small_l_prime[1]"
      ],
      "metadata": {
        "id": "-FgO7IyRESlI"
      },
      "execution_count": 15,
      "outputs": []
    },
    {
      "cell_type": "code",
      "source": [
        "def boyer_moore(p, p_bm, t):\n",
        "    \"\"\" Do Boyer-Moore matching \"\"\"\n",
        "    i = 0\n",
        "    occurrences = []\n",
        "    alignments = 0\n",
        "    char_comparison = 0\n",
        "    while i < len(t) - len(p) + 1:\n",
        "        shift = 1\n",
        "        alignments+=1\n",
        "        mismatched = False\n",
        "        for j in range(len(p)-1, -1, -1):\n",
        "            char_comparison+=1\n",
        "            if p[j] != t[i+j]:\n",
        "                skip_bc = p_bm.bad_character_rule(j, t[i+j])\n",
        "                skip_gs = p_bm.good_suffix_rule(j)\n",
        "                shift = max(shift, skip_bc, skip_gs)\n",
        "                mismatched = True\n",
        "                break\n",
        "        if not mismatched:\n",
        "            occurrences.append(i)\n",
        "            skip_gs = p_bm.match_skip()\n",
        "            shift = max(shift, skip_gs)\n",
        "        i += shift\n",
        "    return occurrences, alignments, char_comparison\n"
      ],
      "metadata": {
        "id": "3592u9cuVINh"
      },
      "execution_count": 17,
      "outputs": []
    },
    {
      "cell_type": "code",
      "source": [
        "t = genome\n",
        "p = 'ACCCCTGAA'\n",
        "alphabet = 'ACTG'\n",
        "p_bm = BoyerMoore(p, alphabet)"
      ],
      "metadata": {
        "id": "pEwMc0uyXO3U"
      },
      "execution_count": 49,
      "outputs": []
    },
    {
      "cell_type": "code",
      "source": [
        "occurrences_N, num_alignments_N, num_character_comparisons_N = naive(p, t)\n",
        "print('Naive matching method', 'performed', num_alignments_N,'alignments','on', num_character_comparisons_N,'characters.')\n",
        "if occurrences_N == []:\n",
        "   print('\\ndid not find any exact matching')\n",
        "else:\n",
        "   print('\\nfound',len(occurrences_N) ,'matches at',occurrences_N)"
      ],
      "metadata": {
        "colab": {
          "base_uri": "https://localhost:8080/"
        },
        "id": "4bgkDAJJYFbd",
        "outputId": "1a24246b-cf05-4978-e9d2-b33b6154f22f"
      },
      "execution_count": 50,
      "outputs": [
        {
          "output_type": "stream",
          "name": "stdout",
          "text": [
            "Naive matching method performed 799992 alignments on 1102603 characters.\n",
            "\n",
            "found 2 matches at [278527, 592643]\n"
          ]
        }
      ]
    },
    {
      "cell_type": "code",
      "source": [
        "occurrences_BM, num_alignments_BM, num_character_comparisons_BM = boyer_moore(p, p_bm, t)\n",
        "print('Boyer Moore matching method', 'performed', num_alignments_BM,'alignments','on', num_character_comparisons_BM,'characters.')\n",
        "if occurrences_BM == []:\n",
        "   print('\\ndid not find any exact matching')\n",
        "else:\n",
        "   print('\\nfound',len(occurrences_BM),'matches at',occurrences_BM)"
      ],
      "metadata": {
        "colab": {
          "base_uri": "https://localhost:8080/"
        },
        "id": "Fa-b5GgjVLm6",
        "outputId": "1daa986a-cb06-4a46-c1da-0b93cde3a9a8"
      },
      "execution_count": 51,
      "outputs": [
        {
          "output_type": "stream",
          "name": "stdout",
          "text": [
            "Boyer Moore matching method performed 234204 alignments on 357381 characters.\n",
            "\n",
            "found 2 matches at [278527, 592643]\n"
          ]
        }
      ]
    }
  ]
}