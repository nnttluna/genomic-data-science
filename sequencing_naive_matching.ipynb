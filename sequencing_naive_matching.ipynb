{
  "nbformat": 4,
  "nbformat_minor": 0,
  "metadata": {
    "colab": {
      "provenance": [],
      "mount_file_id": "1XZUHymTjwWQY5pO_p4JGzravcIR8N4pl",
      "authorship_tag": "ABX9TyNVxtBKe+gfFpqWPnK071Qq",
      "include_colab_link": true
    },
    "kernelspec": {
      "name": "python3",
      "display_name": "Python 3"
    },
    "language_info": {
      "name": "python"
    }
  },
  "cells": [
    {
      "cell_type": "markdown",
      "metadata": {
        "id": "view-in-github",
        "colab_type": "text"
      },
      "source": [
        "<a href=\"https://colab.research.google.com/github/nnttluna/genomic-data-science/blob/main/sequencing_naive_matching.ipynb\" target=\"_parent\"><img src=\"https://colab.research.google.com/assets/colab-badge.svg\" alt=\"Open In Colab\"/></a>"
      ]
    },
    {
      "cell_type": "code",
      "execution_count": 1,
      "metadata": {
        "colab": {
          "base_uri": "https://localhost:8080/",
          "height": 35
        },
        "id": "bkjCvtGjgSSJ",
        "outputId": "5c710e33-dd2b-41b8-c327-fe04b1a28143"
      },
      "outputs": [
        {
          "output_type": "execute_result",
          "data": {
            "text/plain": [
              "'C'"
            ],
            "application/vnd.google.colaboratory.intrinsic+json": {
              "type": "string"
            }
          },
          "metadata": {},
          "execution_count": 1
        }
      ],
      "source": [
        "seq = 'ACGT'\n",
        "seq[1]"
      ]
    },
    {
      "cell_type": "code",
      "source": [
        "e =''\n",
        "len(e)"
      ],
      "metadata": {
        "colab": {
          "base_uri": "https://localhost:8080/"
        },
        "id": "wnxXNHBUhmlS",
        "outputId": "ea03d579-e8c3-4ed7-816b-5c799767cfe4"
      },
      "execution_count": 2,
      "outputs": [
        {
          "output_type": "execute_result",
          "data": {
            "text/plain": [
              "0"
            ]
          },
          "metadata": {},
          "execution_count": 2
        }
      ]
    },
    {
      "cell_type": "code",
      "source": [
        "seq1 = 'CCAA'\n",
        "seq2 = 'GGTT'\n",
        "seqs = ['A','C','G','T']\n",
        "print(' '.join(seqs))"
      ],
      "metadata": {
        "colab": {
          "base_uri": "https://localhost:8080/"
        },
        "id": "HeJk1Q-ihpqB",
        "outputId": "f0eeee5c-502d-40cc-a2f9-94d042d60026"
      },
      "execution_count": 3,
      "outputs": [
        {
          "output_type": "stream",
          "name": "stdout",
          "text": [
            "A C G T\n"
          ]
        }
      ]
    },
    {
      "cell_type": "code",
      "source": [
        "import random\n",
        "random.seed(7)\n",
        "random.choices('AGCT')\n"
      ],
      "metadata": {
        "colab": {
          "base_uri": "https://localhost:8080/"
        },
        "id": "Yit6dCZtiB2g",
        "outputId": "3fe6d209-840c-4d85-be0d-9f9c223c956f"
      },
      "execution_count": 4,
      "outputs": [
        {
          "output_type": "execute_result",
          "data": {
            "text/plain": [
              "['G']"
            ]
          },
          "metadata": {},
          "execution_count": 4
        }
      ]
    },
    {
      "cell_type": "code",
      "source": [
        "seq =''\n",
        "for _ in range(10):\n",
        "  seq+=random.choice('AGCT')\n",
        "print (seq)"
      ],
      "metadata": {
        "colab": {
          "base_uri": "https://localhost:8080/"
        },
        "id": "lGRSNvSOih22",
        "outputId": "76266e27-1f66-453c-a8fa-88eb0dfb11a9"
      },
      "execution_count": 5,
      "outputs": [
        {
          "output_type": "stream",
          "name": "stdout",
          "text": [
            "GTAAACAGAA\n"
          ]
        }
      ]
    },
    {
      "cell_type": "code",
      "source": [
        "seq = ''.join([random.choice('AGCT') for _ in range (10)])\n",
        "print (seq)"
      ],
      "metadata": {
        "colab": {
          "base_uri": "https://localhost:8080/"
        },
        "id": "1X9cVKP3iyhK",
        "outputId": "334f63a6-8072-4bba-8eee-e12209c21d04"
      },
      "execution_count": 6,
      "outputs": [
        {
          "output_type": "stream",
          "name": "stdout",
          "text": [
            "TTAGATAAGA\n"
          ]
        }
      ]
    },
    {
      "cell_type": "code",
      "source": [
        "seq[1:3]"
      ],
      "metadata": {
        "colab": {
          "base_uri": "https://localhost:8080/",
          "height": 35
        },
        "id": "IbQ4c2QXjAlw",
        "outputId": "74b01e18-f1d9-43e1-decd-18813a89ee3f"
      },
      "execution_count": 7,
      "outputs": [
        {
          "output_type": "execute_result",
          "data": {
            "text/plain": [
              "'TA'"
            ],
            "application/vnd.google.colaboratory.intrinsic+json": {
              "type": "string"
            }
          },
          "metadata": {},
          "execution_count": 7
        }
      ]
    },
    {
      "cell_type": "code",
      "source": [
        "seq[:3]"
      ],
      "metadata": {
        "colab": {
          "base_uri": "https://localhost:8080/",
          "height": 35
        },
        "id": "Ftdo_4WLjE8C",
        "outputId": "666a3ba8-4e97-45d5-af5a-5d1ee77a5dec"
      },
      "execution_count": 8,
      "outputs": [
        {
          "output_type": "execute_result",
          "data": {
            "text/plain": [
              "'TTA'"
            ],
            "application/vnd.google.colaboratory.intrinsic+json": {
              "type": "string"
            }
          },
          "metadata": {},
          "execution_count": 8
        }
      ]
    },
    {
      "cell_type": "code",
      "source": [
        "seq[-3:]"
      ],
      "metadata": {
        "colab": {
          "base_uri": "https://localhost:8080/",
          "height": 35
        },
        "id": "P8EcMIb6jN6F",
        "outputId": "3d3e73b0-542a-49df-8e1d-c6d2d09e0d84"
      },
      "execution_count": 9,
      "outputs": [
        {
          "output_type": "execute_result",
          "data": {
            "text/plain": [
              "'AGA'"
            ],
            "application/vnd.google.colaboratory.intrinsic+json": {
              "type": "string"
            }
          },
          "metadata": {},
          "execution_count": 9
        }
      ]
    },
    {
      "cell_type": "code",
      "source": [
        "def longestCommonPrefix(s1,s2):\n",
        "  i = 0\n",
        "  while i < len(s1) and i < len(s2) and s1[i] == s2[i]:\n",
        "    i+=1\n",
        "  return s1[:i]\n",
        "\n",
        "longestCommonPrefix('ACCATGT','ACCAGAC')"
      ],
      "metadata": {
        "colab": {
          "base_uri": "https://localhost:8080/",
          "height": 35
        },
        "id": "Xg8uwATgjRJb",
        "outputId": "14291fb5-7d05-40b7-ee7d-50d447547a0d"
      },
      "execution_count": 10,
      "outputs": [
        {
          "output_type": "execute_result",
          "data": {
            "text/plain": [
              "'ACCA'"
            ],
            "application/vnd.google.colaboratory.intrinsic+json": {
              "type": "string"
            }
          },
          "metadata": {},
          "execution_count": 10
        }
      ]
    },
    {
      "cell_type": "code",
      "source": [
        "def match(s1,s2):\n",
        "  if not len(s1)==len(s2):\n",
        "    return False\n",
        "\n",
        "  for i in range (len(s1)):\n",
        "    if not s1[i] == s2[i]:\n",
        "      return False\n",
        "\n",
        "  return True\n",
        "\n",
        "match('ATGCT', 'ATGCA')"
      ],
      "metadata": {
        "colab": {
          "base_uri": "https://localhost:8080/"
        },
        "id": "DCKVCkoukDzA",
        "outputId": "3597a8e1-2da9-44cd-bddc-54389341b582"
      },
      "execution_count": 11,
      "outputs": [
        {
          "output_type": "execute_result",
          "data": {
            "text/plain": [
              "False"
            ]
          },
          "metadata": {},
          "execution_count": 11
        }
      ]
    },
    {
      "cell_type": "code",
      "source": [
        "'ATGCT'=='ATGCT'"
      ],
      "metadata": {
        "colab": {
          "base_uri": "https://localhost:8080/"
        },
        "id": "5YeS41u2klTM",
        "outputId": "47a8308e-e7c3-4930-cfc4-7e95ad4d004f"
      },
      "execution_count": 12,
      "outputs": [
        {
          "output_type": "execute_result",
          "data": {
            "text/plain": [
              "True"
            ]
          },
          "metadata": {},
          "execution_count": 12
        }
      ]
    },
    {
      "cell_type": "code",
      "source": [
        "def reverseComplement(s):\n",
        "  complement = {'A':'T','C':'G','G':'C','T':'A', 'N':'N', 'a':'t', 't':'a', 'c':'g', 'g':'c', 'n':'n' }\n",
        "  t =''\n",
        "  for base in s:\n",
        "    t = complement[base] + t\n",
        "  return t\n",
        "\n",
        "reverseComplement('CGCTAAG')"
      ],
      "metadata": {
        "colab": {
          "base_uri": "https://localhost:8080/",
          "height": 35
        },
        "id": "qjfrrzrWkrxH",
        "outputId": "46035862-66fe-4fbc-bfc7-5b98c73c9dfc"
      },
      "execution_count": 13,
      "outputs": [
        {
          "output_type": "execute_result",
          "data": {
            "text/plain": [
              "'CTTAGCG'"
            ],
            "application/vnd.google.colaboratory.intrinsic+json": {
              "type": "string"
            }
          },
          "metadata": {},
          "execution_count": 13
        }
      ]
    },
    {
      "cell_type": "code",
      "source": [
        "import urllib.request\n",
        "\n",
        "\n",
        "url = 'http://d28rh4a8wq0iu5.cloudfront.net/ads1/data/lambda_virus.fa'\n",
        "filename = 'lambda_virus.fa'\n",
        "urllib.request.urlretrieve(url, filename)"
      ],
      "metadata": {
        "colab": {
          "base_uri": "https://localhost:8080/"
        },
        "id": "1ujVYTrSl6r5",
        "outputId": "4b9baef0-2a8c-4694-ad58-4403aeadb5f8"
      },
      "execution_count": 14,
      "outputs": [
        {
          "output_type": "execute_result",
          "data": {
            "text/plain": [
              "('lambda_virus.fa', <http.client.HTTPMessage at 0x793b5c820850>)"
            ]
          },
          "metadata": {},
          "execution_count": 14
        }
      ]
    },
    {
      "cell_type": "code",
      "source": [
        "def readgenome(filename):\n",
        "  genome =''\n",
        "  with open(filename,'r') as f:\n",
        "    for line in f:\n",
        "      if not line[0] =='>':\n",
        "        genome+=line.rstrip()\n",
        "  return genome\n",
        "\n"
      ],
      "metadata": {
        "id": "2m-qzAZaqnm7"
      },
      "execution_count": 15,
      "outputs": []
    },
    {
      "cell_type": "code",
      "source": [
        "genome = readgenome(filename)\n",
        "genome[:100]"
      ],
      "metadata": {
        "colab": {
          "base_uri": "https://localhost:8080/",
          "height": 35
        },
        "id": "ZEAoUxYxrNnV",
        "outputId": "4c0503dd-22b8-4190-b756-6563acd85dab"
      },
      "execution_count": 16,
      "outputs": [
        {
          "output_type": "execute_result",
          "data": {
            "text/plain": [
              "'GGGCGGCGACCTCGCGGGTTTTCGCTATTTATGAAAATTTTCCGGTTTAAGGCGTTTCCGTTCTTCTTCGTCATAACTTAATGTTTTTATTTAAAATACC'"
            ],
            "application/vnd.google.colaboratory.intrinsic+json": {
              "type": "string"
            }
          },
          "metadata": {},
          "execution_count": 16
        }
      ]
    },
    {
      "cell_type": "code",
      "source": [
        "len(genome)"
      ],
      "metadata": {
        "colab": {
          "base_uri": "https://localhost:8080/"
        },
        "id": "Azf9q6r6rfM-",
        "outputId": "c0be2d88-29a9-4160-d5b3-b9e607f14b6c"
      },
      "execution_count": 17,
      "outputs": [
        {
          "output_type": "execute_result",
          "data": {
            "text/plain": [
              "48502"
            ]
          },
          "metadata": {},
          "execution_count": 17
        }
      ]
    },
    {
      "cell_type": "code",
      "source": [
        "counts = {'A':0,'G':0,'C':0,'T':0,}\n",
        "for base in genome:\n",
        "  counts[base] +=1\n",
        "print(counts)"
      ],
      "metadata": {
        "colab": {
          "base_uri": "https://localhost:8080/"
        },
        "id": "7odCMkWHrjWN",
        "outputId": "982c696e-1089-4a6d-a8b2-6aea970f4a1a"
      },
      "execution_count": 18,
      "outputs": [
        {
          "output_type": "stream",
          "name": "stdout",
          "text": [
            "{'A': 12334, 'G': 12820, 'C': 11362, 'T': 11986}\n"
          ]
        }
      ]
    },
    {
      "cell_type": "code",
      "source": [
        "import collections\n",
        "collections.Counter(genome)"
      ],
      "metadata": {
        "colab": {
          "base_uri": "https://localhost:8080/"
        },
        "id": "8Rt6dg9LrziM",
        "outputId": "1345e1f8-514a-4e4c-e12b-ff0405e8c571"
      },
      "execution_count": 19,
      "outputs": [
        {
          "output_type": "execute_result",
          "data": {
            "text/plain": [
              "Counter({'G': 12820, 'C': 11362, 'A': 12334, 'T': 11986})"
            ]
          },
          "metadata": {},
          "execution_count": 19
        }
      ]
    },
    {
      "cell_type": "code",
      "source": [
        "def QtoPhred33 (Q):\n",
        "  # Q to Phred+33 ASCII\n",
        "  return chr(Q+33)\n",
        "\n",
        "def phred33toQ (qual):\n",
        "  return ord(qual) -33"
      ],
      "metadata": {
        "id": "u-lnBM_2r6R8"
      },
      "execution_count": 20,
      "outputs": []
    },
    {
      "cell_type": "code",
      "source": [
        "url = 'http://d28rh4a8wq0iu5.cloudfront.net/ads1/data/SRR835775_1.first1000.fastq'\n",
        "filename2 = 'dna_seq.fa'\n",
        "urllib.request.urlretrieve(url, filename2)"
      ],
      "metadata": {
        "colab": {
          "base_uri": "https://localhost:8080/"
        },
        "id": "uYYpsa0_zcKo",
        "outputId": "a0767fe5-4425-47d7-b584-309496db1650"
      },
      "execution_count": 21,
      "outputs": [
        {
          "output_type": "execute_result",
          "data": {
            "text/plain": [
              "('dna_seq.fa', <http.client.HTTPMessage at 0x793b5c8786d0>)"
            ]
          },
          "metadata": {},
          "execution_count": 21
        }
      ]
    },
    {
      "cell_type": "code",
      "source": [
        "def readfastq(filename):\n",
        "  sequences =[]\n",
        "  qualities =[]\n",
        "  with open(filename) as fh:\n",
        "    while True:\n",
        "      fh.readline()\n",
        "      seq = fh.readline().rstrip()\n",
        "      fh.readline()\n",
        "      qual = fh.readline().rstrip()\n",
        "      if len(seq) == 0:\n",
        "        break\n",
        "      sequences.append(seq)\n",
        "      qualities.append(qual)\n",
        "  return sequences, qualities\n"
      ],
      "metadata": {
        "id": "OqoksETE0Zmv"
      },
      "execution_count": 22,
      "outputs": []
    },
    {
      "cell_type": "code",
      "source": [
        "seqs, quals = readfastq('dna_seq.fa')\n",
        "print(seqs[:5])\n",
        "print(quals[:5])"
      ],
      "metadata": {
        "colab": {
          "base_uri": "https://localhost:8080/"
        },
        "id": "qit13eoU1KPm",
        "outputId": "8c297951-6179-488f-8dce-214396569cb1"
      },
      "execution_count": 23,
      "outputs": [
        {
          "output_type": "stream",
          "name": "stdout",
          "text": [
            "['TAACCCTAACCCTAACCCTAACCCTAACCCTAACCCTAACCCTAACCCTAACCCTCACCCTAACCCTAACCCTAACCGTATCCGTCACCCTAACCCTAAC', 'TAACCCTAACCCTAACCCTAACCCTAACCCTAACCCTAACCCTAACCCTAACCCTACCCTAACCCTAACCCTAACCCTAACCCTAACCCTAACCCTAACC', 'TAGGGTTAGGGTTAGGGTTAGGGTTAGGGTTAGGGTTAGGGTTAGGGTTAGGGTTAGGGTTAGGGTTAGGGTTAGGGTTAGGGTTAGGGTTAGGGTTAGG', 'TAGGGTTAGGGTTAGGGTTAGGGTTAGGGTTAGGGTTAGGGTTAGGGTTAGGGTTAGGGTTAGGGTTAAGGGTTGGGGGTTAGGGGTAGGGGTAGGGTTA', 'CTAACCCTAACCCTAACCCTAACCCTACCCTAACCCTAACCCTAACCCTAACCCTAACCCTAACCCTAACCCTAACCCAACCCTAACCCTAACCCTCACC']\n",
            "['???B1ADDD8??BB+C?B+:AA883CEE8?C3@DDD3)?D2;DC?8?=BAD=@C@(.6.6=A?=?@##################################', 'CCCFFFFFGHHGHJJJJJIJGIIJJJJJJJIJIJJJJJFJJFGIIIIH=CBFCF=CCEG)=>EHB2@@DEC>;;?=;(=?BBD?59?BA###########', '@@<DD?DDHHH<CBHII:CFGIGAGHIIG?CCGGE0BDHIIHIGICH8=FHGI=@EHGGGEEHH>);?CC@.;(=;?59,5<A599?CB>ABBCB><88A', '@CCFFDDFHHHDFHIJJCGGIJJHIIHJC?DHHIJ0?DGHI9BBFHICGGIGI=CDEGI=?AAEF7@?################################', '@<@FDFDDBBFHH@EBGGGEH@FFHE;EHIEGGBHG?)9?8BDGGBGGBCDGI=93=C6==C;CCD(?@>@#############################']\n"
          ]
        }
      ]
    },
    {
      "cell_type": "code",
      "source": [
        "phred33toQ('J')"
      ],
      "metadata": {
        "colab": {
          "base_uri": "https://localhost:8080/"
        },
        "id": "Q4MrDlAg1bDz",
        "outputId": "264f7276-f49e-4747-c8b4-d7c83c62c390"
      },
      "execution_count": 24,
      "outputs": [
        {
          "output_type": "execute_result",
          "data": {
            "text/plain": [
              "41"
            ]
          },
          "metadata": {},
          "execution_count": 24
        }
      ]
    },
    {
      "cell_type": "code",
      "source": [
        "def createHist(qualities):\n",
        "  hist = [0] * 50\n",
        "  for qual in qualities:\n",
        "    for phred in qual:\n",
        "      q = phred33toQ(phred)\n",
        "      hist[q] +=1\n",
        "  return hist\n"
      ],
      "metadata": {
        "id": "AzoFZIMa1nCs"
      },
      "execution_count": 25,
      "outputs": []
    },
    {
      "cell_type": "code",
      "source": [
        "h = createHist(quals)\n",
        "print(h)"
      ],
      "metadata": {
        "colab": {
          "base_uri": "https://localhost:8080/"
        },
        "id": "ejpU-rgr2HM6",
        "outputId": "ebf5095f-270d-42ab-c7ce-b91adba657b0"
      },
      "execution_count": 26,
      "outputs": [
        {
          "output_type": "stream",
          "name": "stdout",
          "text": [
            "[0, 0, 6178, 0, 0, 54, 108, 574, 345, 83, 193, 124, 79, 165, 49, 236, 184, 327, 514, 238, 531, 254, 313, 798, 992, 888, 1396, 1488, 993, 1752, 3387, 4487, 3248, 5476, 8375, 11814, 4243, 7827, 6579, 8179, 9349, 8180, 0, 0, 0, 0, 0, 0, 0, 0]\n"
          ]
        }
      ]
    },
    {
      "cell_type": "code",
      "source": [
        "import matplotlib.pyplot as plt\n",
        "plt.figure(figsize=(12,12))\n",
        "plt.bar(range(len(h)),h)\n",
        "# setting title name\n",
        "plt.title(\"Qualities Histogram of Sequencing Readings\")\n",
        "\n",
        "# setting x axis label\n",
        "plt.xlabel(\"Reading\")\n",
        "\n",
        "# setting y axis label\n",
        "plt.ylabel(\"Quality\")\n",
        "plt.show()"
      ],
      "metadata": {
        "colab": {
          "base_uri": "https://localhost:8080/",
          "height": 1000
        },
        "id": "UqsTi_Vp2LZC",
        "outputId": "bedbb838-edbd-4efd-cc82-ba673e618f5f"
      },
      "execution_count": 40,
      "outputs": [
        {
          "output_type": "display_data",
          "data": {
            "text/plain": [
              "<Figure size 1200x1200 with 1 Axes>"
            ],
            "image/png": "[encoded data removed]"
          },
          "metadata": {}
        }
      ]
    },
    {
      "cell_type": "code",
      "source": [
        "def findGCbypos(reads):\n",
        "  gc = [0] * 100\n",
        "  total = [0] * 100\n",
        "\n",
        "  for read in reads:\n",
        "    for i in range(len(read)):\n",
        "      if read[i] =='C' or read[i] =='G':\n",
        "        gc[i] +=1\n",
        "      total[i] +=1\n",
        "  for i in range (len(gc)):\n",
        "    if total[i] > 0:\n",
        "      gc[i] /=float(total[i])\n",
        "\n",
        "  return gc"
      ],
      "metadata": {
        "id": "2W6Tb3Sq2WJC"
      },
      "execution_count": 28,
      "outputs": []
    },
    {
      "cell_type": "code",
      "source": [
        "gc = findGCbypos(seqs)\n",
        "plt.plot(range(len(gc)),gc)\n",
        "plt.show()"
      ],
      "metadata": {
        "colab": {
          "base_uri": "https://localhost:8080/",
          "height": 430
        },
        "id": "T8b0guqd3yPZ",
        "outputId": "9741a793-77c9-4203-9e49-a36383c52ee2"
      },
      "execution_count": 29,
      "outputs": [
        {
          "output_type": "display_data",
          "data": {
            "text/plain": [
              "<Figure size 640x480 with 1 Axes>"
            ],
            "image/png": "[encoded data removed]"
          },
          "metadata": {}
        }
      ]
    },
    {
      "cell_type": "code",
      "source": [
        "count = collections.Counter()\n",
        "for seq in seqs:\n",
        "  count.update(seq)\n",
        "print(count)"
      ],
      "metadata": {
        "colab": {
          "base_uri": "https://localhost:8080/"
        },
        "id": "lBcQ-C6A32pg",
        "outputId": "d826d806-5c03-4589-85dc-53cd5180f3d9"
      },
      "execution_count": 30,
      "outputs": [
        {
          "output_type": "stream",
          "name": "stdout",
          "text": [
            "Counter({'G': 28742, 'C': 28272, 'T': 21836, 'A': 21132, 'N': 18})\n"
          ]
        }
      ]
    },
    {
      "cell_type": "code",
      "source": [
        "def naive(p,t):\n",
        "  occurances = []\n",
        "  for i in range(len(t)-len(p)+1):\n",
        "    match_ques =True\n",
        "    for j in range (len(p)):\n",
        "      if not t[i+j] == p[j]:\n",
        "        match_ques = False\n",
        "        break\n",
        "    if match_ques:\n",
        "      occurances.append(i)\n",
        "  return occurances"
      ],
      "metadata": {
        "id": "GCKnsheq5OYX"
      },
      "execution_count": 31,
      "outputs": []
    },
    {
      "cell_type": "code",
      "source": [
        "t = 'AGCTTGTTAGCGATATCGT'\n",
        "p = 'AG'\n",
        "naive (p,t)"
      ],
      "metadata": {
        "colab": {
          "base_uri": "https://localhost:8080/"
        },
        "id": "4bFB2W9mAjB8",
        "outputId": "860b2fbe-462b-4344-cfe2-af9f93b07625"
      },
      "execution_count": 32,
      "outputs": [
        {
          "output_type": "execute_result",
          "data": {
            "text/plain": [
              "[0, 8]"
            ]
          },
          "metadata": {},
          "execution_count": 32
        }
      ]
    },
    {
      "cell_type": "code",
      "source": [
        "def generateReads (genome,numReads,readLen):\n",
        "  reads =[]\n",
        "  for _ in range (numReads):\n",
        "    start = random.randint(0,len(genome)-readLen) - 1\n",
        "    reads.append(genome[start:start+readLen])\n",
        "  return reads"
      ],
      "metadata": {
        "id": "j2ttnI1bAvwF"
      },
      "execution_count": 33,
      "outputs": []
    },
    {
      "cell_type": "code",
      "source": [
        "reads = generateReads(genome,100,100)\n",
        "\n",
        "numMatched = 0\n",
        "for r in reads:\n",
        "  matches = naive(r,genome)\n",
        "  if len(matches)>0:\n",
        "    numMatched+=1\n",
        "print(numMatched,'/',len(reads), ' reads matched exactly', )"
      ],
      "metadata": {
        "colab": {
          "base_uri": "https://localhost:8080/"
        },
        "id": "pbRuHdnjB1Xc",
        "outputId": "4d6e9f9e-53fe-4e93-8df7-844e4564c8fc"
      },
      "execution_count": 34,
      "outputs": [
        {
          "output_type": "stream",
          "name": "stdout",
          "text": [
            "100 / 100  reads matched exactly\n"
          ]
        }
      ]
    },
    {
      "cell_type": "code",
      "source": [
        "\n",
        "url3 = 'http://d28rh4a8wq0iu5.cloudfront.net/ads1/data/ERR266411_1.first1000.fastq'\n",
        "filename3 = 'real_reads.fa'\n",
        "urllib.request.urlretrieve(url3, filename3)\n",
        "\n",
        "url4 = 'http://d28rh4a8wq0iu5.cloudfront.net/ads1/data/phix.fa'\n",
        "filename4 = 'phix.fa'\n",
        "urllib.request.urlretrieve(url4, filename4)"
      ],
      "metadata": {
        "colab": {
          "base_uri": "https://localhost:8080/"
        },
        "id": "W0FdQwofCn2M",
        "outputId": "2fbf04a3-19d3-4319-8422-b35f02c298d4"
      },
      "execution_count": 35,
      "outputs": [
        {
          "output_type": "execute_result",
          "data": {
            "text/plain": [
              "('phix.fa', <http.client.HTTPMessage at 0x793b5c28af80>)"
            ]
          },
          "metadata": {},
          "execution_count": 35
        }
      ]
    },
    {
      "cell_type": "code",
      "source": [
        "phix_reads, _ = readfastq('real_reads.fa')\n",
        "genome = readgenome(filename4)"
      ],
      "metadata": {
        "id": "_cA0r-fVDIeb"
      },
      "execution_count": 36,
      "outputs": []
    },
    {
      "cell_type": "code",
      "source": [
        "numMatched = 0\n",
        "n= 0\n",
        "for r in phix_reads:\n",
        "  r = r[:30]\n",
        "  matches = naive(r,genome)\n",
        "  n+=1\n",
        "  if len(matches) > 0:\n",
        "    numMatched+=1\n",
        "\n",
        "print(numMatched,'/',n, ' reads matched exactly', )"
      ],
      "metadata": {
        "colab": {
          "base_uri": "https://localhost:8080/"
        },
        "id": "tjXd4LusDUvS",
        "outputId": "0b4c059b-f410-41f4-a044-0e5534c2e9a7"
      },
      "execution_count": 37,
      "outputs": [
        {
          "output_type": "stream",
          "name": "stdout",
          "text": [
            "459 / 1000  reads matched exactly\n"
          ]
        }
      ]
    },
    {
      "cell_type": "code",
      "source": [
        "umMatched = 0\n",
        "n= 0\n",
        "for r in phix_reads:\n",
        "  #r = r[:30]\n",
        "  matches = naive(r,genome)\n",
        "  matches.extend(naive(reverseComplement(r),genome))\n",
        "  n+=1\n",
        "  if len(matches) > 0:\n",
        "    numMatched+=1\n",
        "\n",
        "print(numMatched,'/',n, ' reads matched exactly', )"
      ],
      "metadata": {
        "colab": {
          "base_uri": "https://localhost:8080/"
        },
        "id": "1_xj-uuBEMif",
        "outputId": "9036825f-8190-47a3-c23c-f125553943c0"
      },
      "execution_count": 38,
      "outputs": [
        {
          "output_type": "stream",
          "name": "stdout",
          "text": [
            "908 / 1000  reads matched exactly\n"
          ]
        }
      ]
    },
    {
      "cell_type": "code",
      "source": [],
      "metadata": {
        "id": "OYuMPFZ9FuCv"
      },
      "execution_count": 38,
      "outputs": []
    }
  ]
}